{
 "cells": [
  {
   "cell_type": "code",
   "execution_count": 2,
   "metadata": {},
   "outputs": [
    {
     "name": "stdout",
     "output_type": "stream",
     "text": [
      "Found 78200 images belonging to 46 classes.\n",
      "Found 13800 images belonging to 46 classes.\n",
      "Epoch 1/20\n"
     ]
    },
    {
     "ename": "NotFoundError",
     "evalue": "Graph execution error:\n\nDetected at node 'sequential_1/conv2d_3/Relu' defined at (most recent call last):\n    File \"c:\\Users\\TCS\\anaconda3\\envs\\hackademia\\lib\\runpy.py\", line 197, in _run_module_as_main\n      return _run_code(code, main_globals, None,\n    File \"c:\\Users\\TCS\\anaconda3\\envs\\hackademia\\lib\\runpy.py\", line 87, in _run_code\n      exec(code, run_globals)\n    File \"c:\\Users\\TCS\\anaconda3\\envs\\hackademia\\lib\\site-packages\\ipykernel_launcher.py\", line 18, in <module>\n      app.launch_new_instance()\n    File \"c:\\Users\\TCS\\anaconda3\\envs\\hackademia\\lib\\site-packages\\traitlets\\config\\application.py\", line 1075, in launch_instance\n      app.start()\n    File \"c:\\Users\\TCS\\anaconda3\\envs\\hackademia\\lib\\site-packages\\ipykernel\\kernelapp.py\", line 739, in start\n      self.io_loop.start()\n    File \"c:\\Users\\TCS\\anaconda3\\envs\\hackademia\\lib\\site-packages\\tornado\\platform\\asyncio.py\", line 205, in start\n      self.asyncio_loop.run_forever()\n    File \"c:\\Users\\TCS\\anaconda3\\envs\\hackademia\\lib\\asyncio\\base_events.py\", line 601, in run_forever\n      self._run_once()\n    File \"c:\\Users\\TCS\\anaconda3\\envs\\hackademia\\lib\\asyncio\\base_events.py\", line 1905, in _run_once\n      handle._run()\n    File \"c:\\Users\\TCS\\anaconda3\\envs\\hackademia\\lib\\asyncio\\events.py\", line 80, in _run\n      self._context.run(self._callback, *self._args)\n    File \"c:\\Users\\TCS\\anaconda3\\envs\\hackademia\\lib\\site-packages\\ipykernel\\kernelbase.py\", line 545, in dispatch_queue\n      await self.process_one()\n    File \"c:\\Users\\TCS\\anaconda3\\envs\\hackademia\\lib\\site-packages\\ipykernel\\kernelbase.py\", line 534, in process_one\n      await dispatch(*args)\n    File \"c:\\Users\\TCS\\anaconda3\\envs\\hackademia\\lib\\site-packages\\ipykernel\\kernelbase.py\", line 437, in dispatch_shell\n      await result\n    File \"c:\\Users\\TCS\\anaconda3\\envs\\hackademia\\lib\\site-packages\\ipykernel\\ipkernel.py\", line 362, in execute_request\n      await super().execute_request(stream, ident, parent)\n    File \"c:\\Users\\TCS\\anaconda3\\envs\\hackademia\\lib\\site-packages\\ipykernel\\kernelbase.py\", line 778, in execute_request\n      reply_content = await reply_content\n    File \"c:\\Users\\TCS\\anaconda3\\envs\\hackademia\\lib\\site-packages\\ipykernel\\ipkernel.py\", line 449, in do_execute\n      res = shell.run_cell(\n    File \"c:\\Users\\TCS\\anaconda3\\envs\\hackademia\\lib\\site-packages\\ipykernel\\zmqshell.py\", line 549, in run_cell\n      return super().run_cell(*args, **kwargs)\n    File \"c:\\Users\\TCS\\anaconda3\\envs\\hackademia\\lib\\site-packages\\IPython\\core\\interactiveshell.py\", line 3048, in run_cell\n      result = self._run_cell(\n    File \"c:\\Users\\TCS\\anaconda3\\envs\\hackademia\\lib\\site-packages\\IPython\\core\\interactiveshell.py\", line 3103, in _run_cell\n      result = runner(coro)\n    File \"c:\\Users\\TCS\\anaconda3\\envs\\hackademia\\lib\\site-packages\\IPython\\core\\async_helpers.py\", line 129, in _pseudo_sync_runner\n      coro.send(None)\n    File \"c:\\Users\\TCS\\anaconda3\\envs\\hackademia\\lib\\site-packages\\IPython\\core\\interactiveshell.py\", line 3308, in run_cell_async\n      has_raised = await self.run_ast_nodes(code_ast.body, cell_name,\n    File \"c:\\Users\\TCS\\anaconda3\\envs\\hackademia\\lib\\site-packages\\IPython\\core\\interactiveshell.py\", line 3490, in run_ast_nodes\n      if await self.run_code(code, result, async_=asy):\n    File \"c:\\Users\\TCS\\anaconda3\\envs\\hackademia\\lib\\site-packages\\IPython\\core\\interactiveshell.py\", line 3550, in run_code\n      exec(code_obj, self.user_global_ns, self.user_ns)\n    File \"C:\\Users\\TCS\\AppData\\Local\\Temp\\ipykernel_36720\\2806018624.py\", line 66, in <module>\n      history = model.fit(\n    File \"c:\\Users\\TCS\\anaconda3\\envs\\hackademia\\lib\\site-packages\\keras\\utils\\traceback_utils.py\", line 65, in error_handler\n      return fn(*args, **kwargs)\n    File \"c:\\Users\\TCS\\anaconda3\\envs\\hackademia\\lib\\site-packages\\keras\\engine\\training.py\", line 1564, in fit\n      tmp_logs = self.train_function(iterator)\n    File \"c:\\Users\\TCS\\anaconda3\\envs\\hackademia\\lib\\site-packages\\keras\\engine\\training.py\", line 1160, in train_function\n      return step_function(self, iterator)\n    File \"c:\\Users\\TCS\\anaconda3\\envs\\hackademia\\lib\\site-packages\\keras\\engine\\training.py\", line 1146, in step_function\n      outputs = model.distribute_strategy.run(run_step, args=(data,))\n    File \"c:\\Users\\TCS\\anaconda3\\envs\\hackademia\\lib\\site-packages\\keras\\engine\\training.py\", line 1135, in run_step\n      outputs = model.train_step(data)\n    File \"c:\\Users\\TCS\\anaconda3\\envs\\hackademia\\lib\\site-packages\\keras\\engine\\training.py\", line 993, in train_step\n      y_pred = self(x, training=True)\n    File \"c:\\Users\\TCS\\anaconda3\\envs\\hackademia\\lib\\site-packages\\keras\\utils\\traceback_utils.py\", line 65, in error_handler\n      return fn(*args, **kwargs)\n    File \"c:\\Users\\TCS\\anaconda3\\envs\\hackademia\\lib\\site-packages\\keras\\engine\\training.py\", line 557, in __call__\n      return super().__call__(*args, **kwargs)\n    File \"c:\\Users\\TCS\\anaconda3\\envs\\hackademia\\lib\\site-packages\\keras\\utils\\traceback_utils.py\", line 65, in error_handler\n      return fn(*args, **kwargs)\n    File \"c:\\Users\\TCS\\anaconda3\\envs\\hackademia\\lib\\site-packages\\keras\\engine\\base_layer.py\", line 1097, in __call__\n      outputs = call_fn(inputs, *args, **kwargs)\n    File \"c:\\Users\\TCS\\anaconda3\\envs\\hackademia\\lib\\site-packages\\keras\\utils\\traceback_utils.py\", line 96, in error_handler\n      return fn(*args, **kwargs)\n    File \"c:\\Users\\TCS\\anaconda3\\envs\\hackademia\\lib\\site-packages\\keras\\engine\\sequential.py\", line 410, in call\n      return super().call(inputs, training=training, mask=mask)\n    File \"c:\\Users\\TCS\\anaconda3\\envs\\hackademia\\lib\\site-packages\\keras\\engine\\functional.py\", line 510, in call\n      return self._run_internal_graph(inputs, training=training, mask=mask)\n    File \"c:\\Users\\TCS\\anaconda3\\envs\\hackademia\\lib\\site-packages\\keras\\engine\\functional.py\", line 667, in _run_internal_graph\n      outputs = node.layer(*args, **kwargs)\n    File \"c:\\Users\\TCS\\anaconda3\\envs\\hackademia\\lib\\site-packages\\keras\\utils\\traceback_utils.py\", line 65, in error_handler\n      return fn(*args, **kwargs)\n    File \"c:\\Users\\TCS\\anaconda3\\envs\\hackademia\\lib\\site-packages\\keras\\engine\\base_layer.py\", line 1097, in __call__\n      outputs = call_fn(inputs, *args, **kwargs)\n    File \"c:\\Users\\TCS\\anaconda3\\envs\\hackademia\\lib\\site-packages\\keras\\utils\\traceback_utils.py\", line 96, in error_handler\n      return fn(*args, **kwargs)\n    File \"c:\\Users\\TCS\\anaconda3\\envs\\hackademia\\lib\\site-packages\\keras\\layers\\convolutional\\base_conv.py\", line 314, in call\n      return self.activation(outputs)\n    File \"c:\\Users\\TCS\\anaconda3\\envs\\hackademia\\lib\\site-packages\\keras\\activations.py\", line 317, in relu\n      return backend.relu(\n    File \"c:\\Users\\TCS\\anaconda3\\envs\\hackademia\\lib\\site-packages\\keras\\backend.py\", line 5366, in relu\n      x = tf.nn.relu(x)\nNode: 'sequential_1/conv2d_3/Relu'\nNo algorithm worked!  Error messages:\n\t [[{{node sequential_1/conv2d_3/Relu}}]] [Op:__inference_train_function_3765]",
     "output_type": "error",
     "traceback": [
      "\u001b[1;31m---------------------------------------------------------------------------\u001b[0m",
      "\u001b[1;31mNotFoundError\u001b[0m                             Traceback (most recent call last)",
      "Cell \u001b[1;32mIn[2], line 66\u001b[0m\n\u001b[0;32m     61\u001b[0m model\u001b[38;5;241m.\u001b[39mcompile(optimizer\u001b[38;5;241m=\u001b[39m\u001b[38;5;124m'\u001b[39m\u001b[38;5;124madam\u001b[39m\u001b[38;5;124m'\u001b[39m,\n\u001b[0;32m     62\u001b[0m               loss\u001b[38;5;241m=\u001b[39m\u001b[38;5;124m'\u001b[39m\u001b[38;5;124mcategorical_crossentropy\u001b[39m\u001b[38;5;124m'\u001b[39m,\n\u001b[0;32m     63\u001b[0m               metrics\u001b[38;5;241m=\u001b[39m[\u001b[38;5;124m'\u001b[39m\u001b[38;5;124maccuracy\u001b[39m\u001b[38;5;124m'\u001b[39m])\n\u001b[0;32m     65\u001b[0m \u001b[38;5;66;03m# Train the model\u001b[39;00m\n\u001b[1;32m---> 66\u001b[0m history \u001b[38;5;241m=\u001b[39m \u001b[43mmodel\u001b[49m\u001b[38;5;241;43m.\u001b[39;49m\u001b[43mfit\u001b[49m\u001b[43m(\u001b[49m\n\u001b[0;32m     67\u001b[0m \u001b[43m    \u001b[49m\u001b[43mtrain_generator\u001b[49m\u001b[43m,\u001b[49m\n\u001b[0;32m     68\u001b[0m \u001b[43m    \u001b[49m\u001b[43mepochs\u001b[49m\u001b[38;5;241;43m=\u001b[39;49m\u001b[38;5;241;43m20\u001b[39;49m\u001b[43m,\u001b[49m\n\u001b[0;32m     69\u001b[0m \u001b[43m    \u001b[49m\u001b[43mvalidation_data\u001b[49m\u001b[38;5;241;43m=\u001b[39;49m\u001b[43mvalidation_generator\u001b[49m\n\u001b[0;32m     70\u001b[0m \u001b[43m)\u001b[49m\n\u001b[0;32m     72\u001b[0m \u001b[38;5;66;03m# Save the model\u001b[39;00m\n\u001b[0;32m     73\u001b[0m model\u001b[38;5;241m.\u001b[39msave(\u001b[38;5;124m'\u001b[39m\u001b[38;5;124mnepali_alphabet_classifier.h5\u001b[39m\u001b[38;5;124m'\u001b[39m)\n",
      "File \u001b[1;32mc:\\Users\\TCS\\anaconda3\\envs\\hackademia\\lib\\site-packages\\keras\\utils\\traceback_utils.py:70\u001b[0m, in \u001b[0;36mfilter_traceback.<locals>.error_handler\u001b[1;34m(*args, **kwargs)\u001b[0m\n\u001b[0;32m     67\u001b[0m     filtered_tb \u001b[38;5;241m=\u001b[39m _process_traceback_frames(e\u001b[38;5;241m.\u001b[39m__traceback__)\n\u001b[0;32m     68\u001b[0m     \u001b[38;5;66;03m# To get the full stack trace, call:\u001b[39;00m\n\u001b[0;32m     69\u001b[0m     \u001b[38;5;66;03m# `tf.debugging.disable_traceback_filtering()`\u001b[39;00m\n\u001b[1;32m---> 70\u001b[0m     \u001b[38;5;28;01mraise\u001b[39;00m e\u001b[38;5;241m.\u001b[39mwith_traceback(filtered_tb) \u001b[38;5;28;01mfrom\u001b[39;00m \u001b[38;5;28;01mNone\u001b[39;00m\n\u001b[0;32m     71\u001b[0m \u001b[38;5;28;01mfinally\u001b[39;00m:\n\u001b[0;32m     72\u001b[0m     \u001b[38;5;28;01mdel\u001b[39;00m filtered_tb\n",
      "File \u001b[1;32mc:\\Users\\TCS\\anaconda3\\envs\\hackademia\\lib\\site-packages\\tensorflow\\python\\eager\\execute.py:54\u001b[0m, in \u001b[0;36mquick_execute\u001b[1;34m(op_name, num_outputs, inputs, attrs, ctx, name)\u001b[0m\n\u001b[0;32m     52\u001b[0m \u001b[38;5;28;01mtry\u001b[39;00m:\n\u001b[0;32m     53\u001b[0m   ctx\u001b[38;5;241m.\u001b[39mensure_initialized()\n\u001b[1;32m---> 54\u001b[0m   tensors \u001b[38;5;241m=\u001b[39m pywrap_tfe\u001b[38;5;241m.\u001b[39mTFE_Py_Execute(ctx\u001b[38;5;241m.\u001b[39m_handle, device_name, op_name,\n\u001b[0;32m     55\u001b[0m                                       inputs, attrs, num_outputs)\n\u001b[0;32m     56\u001b[0m \u001b[38;5;28;01mexcept\u001b[39;00m core\u001b[38;5;241m.\u001b[39m_NotOkStatusException \u001b[38;5;28;01mas\u001b[39;00m e:\n\u001b[0;32m     57\u001b[0m   \u001b[38;5;28;01mif\u001b[39;00m name \u001b[38;5;129;01mis\u001b[39;00m \u001b[38;5;129;01mnot\u001b[39;00m \u001b[38;5;28;01mNone\u001b[39;00m:\n",
      "\u001b[1;31mNotFoundError\u001b[0m: Graph execution error:\n\nDetected at node 'sequential_1/conv2d_3/Relu' defined at (most recent call last):\n    File \"c:\\Users\\TCS\\anaconda3\\envs\\hackademia\\lib\\runpy.py\", line 197, in _run_module_as_main\n      return _run_code(code, main_globals, None,\n    File \"c:\\Users\\TCS\\anaconda3\\envs\\hackademia\\lib\\runpy.py\", line 87, in _run_code\n      exec(code, run_globals)\n    File \"c:\\Users\\TCS\\anaconda3\\envs\\hackademia\\lib\\site-packages\\ipykernel_launcher.py\", line 18, in <module>\n      app.launch_new_instance()\n    File \"c:\\Users\\TCS\\anaconda3\\envs\\hackademia\\lib\\site-packages\\traitlets\\config\\application.py\", line 1075, in launch_instance\n      app.start()\n    File \"c:\\Users\\TCS\\anaconda3\\envs\\hackademia\\lib\\site-packages\\ipykernel\\kernelapp.py\", line 739, in start\n      self.io_loop.start()\n    File \"c:\\Users\\TCS\\anaconda3\\envs\\hackademia\\lib\\site-packages\\tornado\\platform\\asyncio.py\", line 205, in start\n      self.asyncio_loop.run_forever()\n    File \"c:\\Users\\TCS\\anaconda3\\envs\\hackademia\\lib\\asyncio\\base_events.py\", line 601, in run_forever\n      self._run_once()\n    File \"c:\\Users\\TCS\\anaconda3\\envs\\hackademia\\lib\\asyncio\\base_events.py\", line 1905, in _run_once\n      handle._run()\n    File \"c:\\Users\\TCS\\anaconda3\\envs\\hackademia\\lib\\asyncio\\events.py\", line 80, in _run\n      self._context.run(self._callback, *self._args)\n    File \"c:\\Users\\TCS\\anaconda3\\envs\\hackademia\\lib\\site-packages\\ipykernel\\kernelbase.py\", line 545, in dispatch_queue\n      await self.process_one()\n    File \"c:\\Users\\TCS\\anaconda3\\envs\\hackademia\\lib\\site-packages\\ipykernel\\kernelbase.py\", line 534, in process_one\n      await dispatch(*args)\n    File \"c:\\Users\\TCS\\anaconda3\\envs\\hackademia\\lib\\site-packages\\ipykernel\\kernelbase.py\", line 437, in dispatch_shell\n      await result\n    File \"c:\\Users\\TCS\\anaconda3\\envs\\hackademia\\lib\\site-packages\\ipykernel\\ipkernel.py\", line 362, in execute_request\n      await super().execute_request(stream, ident, parent)\n    File \"c:\\Users\\TCS\\anaconda3\\envs\\hackademia\\lib\\site-packages\\ipykernel\\kernelbase.py\", line 778, in execute_request\n      reply_content = await reply_content\n    File \"c:\\Users\\TCS\\anaconda3\\envs\\hackademia\\lib\\site-packages\\ipykernel\\ipkernel.py\", line 449, in do_execute\n      res = shell.run_cell(\n    File \"c:\\Users\\TCS\\anaconda3\\envs\\hackademia\\lib\\site-packages\\ipykernel\\zmqshell.py\", line 549, in run_cell\n      return super().run_cell(*args, **kwargs)\n    File \"c:\\Users\\TCS\\anaconda3\\envs\\hackademia\\lib\\site-packages\\IPython\\core\\interactiveshell.py\", line 3048, in run_cell\n      result = self._run_cell(\n    File \"c:\\Users\\TCS\\anaconda3\\envs\\hackademia\\lib\\site-packages\\IPython\\core\\interactiveshell.py\", line 3103, in _run_cell\n      result = runner(coro)\n    File \"c:\\Users\\TCS\\anaconda3\\envs\\hackademia\\lib\\site-packages\\IPython\\core\\async_helpers.py\", line 129, in _pseudo_sync_runner\n      coro.send(None)\n    File \"c:\\Users\\TCS\\anaconda3\\envs\\hackademia\\lib\\site-packages\\IPython\\core\\interactiveshell.py\", line 3308, in run_cell_async\n      has_raised = await self.run_ast_nodes(code_ast.body, cell_name,\n    File \"c:\\Users\\TCS\\anaconda3\\envs\\hackademia\\lib\\site-packages\\IPython\\core\\interactiveshell.py\", line 3490, in run_ast_nodes\n      if await self.run_code(code, result, async_=asy):\n    File \"c:\\Users\\TCS\\anaconda3\\envs\\hackademia\\lib\\site-packages\\IPython\\core\\interactiveshell.py\", line 3550, in run_code\n      exec(code_obj, self.user_global_ns, self.user_ns)\n    File \"C:\\Users\\TCS\\AppData\\Local\\Temp\\ipykernel_36720\\2806018624.py\", line 66, in <module>\n      history = model.fit(\n    File \"c:\\Users\\TCS\\anaconda3\\envs\\hackademia\\lib\\site-packages\\keras\\utils\\traceback_utils.py\", line 65, in error_handler\n      return fn(*args, **kwargs)\n    File \"c:\\Users\\TCS\\anaconda3\\envs\\hackademia\\lib\\site-packages\\keras\\engine\\training.py\", line 1564, in fit\n      tmp_logs = self.train_function(iterator)\n    File \"c:\\Users\\TCS\\anaconda3\\envs\\hackademia\\lib\\site-packages\\keras\\engine\\training.py\", line 1160, in train_function\n      return step_function(self, iterator)\n    File \"c:\\Users\\TCS\\anaconda3\\envs\\hackademia\\lib\\site-packages\\keras\\engine\\training.py\", line 1146, in step_function\n      outputs = model.distribute_strategy.run(run_step, args=(data,))\n    File \"c:\\Users\\TCS\\anaconda3\\envs\\hackademia\\lib\\site-packages\\keras\\engine\\training.py\", line 1135, in run_step\n      outputs = model.train_step(data)\n    File \"c:\\Users\\TCS\\anaconda3\\envs\\hackademia\\lib\\site-packages\\keras\\engine\\training.py\", line 993, in train_step\n      y_pred = self(x, training=True)\n    File \"c:\\Users\\TCS\\anaconda3\\envs\\hackademia\\lib\\site-packages\\keras\\utils\\traceback_utils.py\", line 65, in error_handler\n      return fn(*args, **kwargs)\n    File \"c:\\Users\\TCS\\anaconda3\\envs\\hackademia\\lib\\site-packages\\keras\\engine\\training.py\", line 557, in __call__\n      return super().__call__(*args, **kwargs)\n    File \"c:\\Users\\TCS\\anaconda3\\envs\\hackademia\\lib\\site-packages\\keras\\utils\\traceback_utils.py\", line 65, in error_handler\n      return fn(*args, **kwargs)\n    File \"c:\\Users\\TCS\\anaconda3\\envs\\hackademia\\lib\\site-packages\\keras\\engine\\base_layer.py\", line 1097, in __call__\n      outputs = call_fn(inputs, *args, **kwargs)\n    File \"c:\\Users\\TCS\\anaconda3\\envs\\hackademia\\lib\\site-packages\\keras\\utils\\traceback_utils.py\", line 96, in error_handler\n      return fn(*args, **kwargs)\n    File \"c:\\Users\\TCS\\anaconda3\\envs\\hackademia\\lib\\site-packages\\keras\\engine\\sequential.py\", line 410, in call\n      return super().call(inputs, training=training, mask=mask)\n    File \"c:\\Users\\TCS\\anaconda3\\envs\\hackademia\\lib\\site-packages\\keras\\engine\\functional.py\", line 510, in call\n      return self._run_internal_graph(inputs, training=training, mask=mask)\n    File \"c:\\Users\\TCS\\anaconda3\\envs\\hackademia\\lib\\site-packages\\keras\\engine\\functional.py\", line 667, in _run_internal_graph\n      outputs = node.layer(*args, **kwargs)\n    File \"c:\\Users\\TCS\\anaconda3\\envs\\hackademia\\lib\\site-packages\\keras\\utils\\traceback_utils.py\", line 65, in error_handler\n      return fn(*args, **kwargs)\n    File \"c:\\Users\\TCS\\anaconda3\\envs\\hackademia\\lib\\site-packages\\keras\\engine\\base_layer.py\", line 1097, in __call__\n      outputs = call_fn(inputs, *args, **kwargs)\n    File \"c:\\Users\\TCS\\anaconda3\\envs\\hackademia\\lib\\site-packages\\keras\\utils\\traceback_utils.py\", line 96, in error_handler\n      return fn(*args, **kwargs)\n    File \"c:\\Users\\TCS\\anaconda3\\envs\\hackademia\\lib\\site-packages\\keras\\layers\\convolutional\\base_conv.py\", line 314, in call\n      return self.activation(outputs)\n    File \"c:\\Users\\TCS\\anaconda3\\envs\\hackademia\\lib\\site-packages\\keras\\activations.py\", line 317, in relu\n      return backend.relu(\n    File \"c:\\Users\\TCS\\anaconda3\\envs\\hackademia\\lib\\site-packages\\keras\\backend.py\", line 5366, in relu\n      x = tf.nn.relu(x)\nNode: 'sequential_1/conv2d_3/Relu'\nNo algorithm worked!  Error messages:\n\t [[{{node sequential_1/conv2d_3/Relu}}]] [Op:__inference_train_function_3765]"
     ]
    }
   ],
   "source": [
    "import tensorflow as tf\n",
    "from tensorflow.keras import layers, models\n",
    "from tensorflow.keras.preprocessing.image import ImageDataGenerator\n",
    "import os\n",
    "\n",
    "def rgb_to_grayscale(images):\n",
    "    # Convert 3-channel RGB images to 1-channel Grayscale\n",
    "    return tf.image.rgb_to_grayscale(images)\n",
    "\n",
    "# Set paths to your data\n",
    "train_data_dir = './train'\n",
    "validation_data_dir = './test'\n",
    "\n",
    "# Image Parameters\n",
    "img_height, img_width = 32,32\n",
    "batch_size = 32\n",
    "\n",
    "# Data Augmentation and Normalization\n",
    "train_datagen = ImageDataGenerator(rescale=1./255,\n",
    "                                    preprocessing_function=rgb_to_grayscale, \n",
    "                                   rotation_range=10,\n",
    "                                   width_shift_range=0.1,\n",
    "                                   height_shift_range=0.1,\n",
    "                                   zoom_range=0.1)\n",
    "\n",
    "validation_datagen = ImageDataGenerator(rescale=1./255,\n",
    "                                         preprocessing_function=rgb_to_grayscale)\n",
    "\n",
    "# Loading Data\n",
    "train_generator = train_datagen.flow_from_directory(\n",
    "    train_data_dir,\n",
    "    target_size=(img_height, img_width),\n",
    "    batch_size=batch_size,\n",
    "    color_mode='rgb',\n",
    "    class_mode='categorical')\n",
    "\n",
    "validation_generator = validation_datagen.flow_from_directory(\n",
    "    validation_data_dir,\n",
    "    target_size=(img_height, img_width),\n",
    "    batch_size=batch_size,\n",
    "    color_mode='rgb',\n",
    "    class_mode='categorical')\n",
    "\n",
    "# Build CNN Model\n",
    "model = models.Sequential([\n",
    "    layers.Conv2D(32, (3, 3), activation='relu', input_shape=(img_height, img_width, 1)),  # Change input shape to 1-channel\n",
    "    layers.MaxPooling2D((2, 2)),\n",
    "    \n",
    "    layers.Conv2D(64, (3, 3), activation='relu'),\n",
    "    layers.MaxPooling2D((2, 2)),\n",
    "    \n",
    "    layers.Conv2D(128, (3, 3), activation='relu'),\n",
    "    layers.MaxPooling2D((2, 2)),\n",
    "    \n",
    "    layers.Flatten(),\n",
    "    layers.Dense(128, activation='relu'),\n",
    "    layers.Dense(46, activation='softmax')  \n",
    "])\n",
    "\n",
    "# Compile the model\n",
    "model.compile(optimizer='adam',\n",
    "              loss='categorical_crossentropy',\n",
    "              metrics=['accuracy'])\n",
    "\n",
    "# Train the model\n",
    "history = model.fit(\n",
    "    train_generator,\n",
    "    epochs=20,\n",
    "    validation_data=validation_generator\n",
    ")\n",
    "\n",
    "# Save the model\n",
    "model.save('nepali_alphabet_classifier.h5')"
   ]
  },
  {
   "cell_type": "code",
   "execution_count": 3,
   "metadata": {},
   "outputs": [],
   "source": [
    "model = tf.keras.models.load_model('nepali_alphabet_classifier.h5')"
   ]
  },
  {
   "cell_type": "code",
   "execution_count": 4,
   "metadata": {},
   "outputs": [],
   "source": [
    "from tensorflow.keras.preprocessing import image\n",
    "import numpy as np\n",
    "import cv2\n",
    "import matplotlib.pyplot as plt\n",
    "\n",
    "def convert_to_rgb(img):\n",
    "    if img.shape != (32, 32):\n",
    "        raise ValueError(f\"Expected input shape (32, 32), but got {img.shape}\")\n",
    "    \n",
    "    # Add the channel dimension (32, 32, 1)\n",
    "    img_with_channel = np.expand_dims(img, axis=-1)\n",
    "    \n",
    "    # Repeat the single channel 3 times to make it 3 channels\n",
    "    img_rgb = np.repeat(img_with_channel, 3, axis=-1)\n",
    "    \n",
    "    return img_rgb\n",
    "\n",
    "def invert_image(image_path):\n",
    "    # Step 1: Load the image\n",
    "    image = cv2.imread(image_path)\n",
    "\n",
    "    # Step 2: Convert the image to grayscale\n",
    "    gray = cv2.cvtColor(image, cv2.COLOR_BGR2GRAY)\n",
    "\n",
    "    # Step 3: Apply a binary threshold to make text white and background black\n",
    "    # The threshold value (150) can be adjusted based on the image quality\n",
    "    _, binary_image = cv2.threshold(gray, 150, 255, cv2.THRESH_BINARY + cv2.THRESH_OTSU)\n",
    "\n",
    "    # Step 4: Invert the binary image (so text becomes white, background becomes black)\n",
    "    inverted_image = cv2.bitwise_not(binary_image)\n",
    "    \n",
    "    # Step 5: Resize the image to 32x32\n",
    "    resized_image = cv2.resize(inverted_image, (32, 32))\n",
    "\n",
    "    # Step 6: Expand the grayscale image to 3 channels\n",
    "    rgb_image = np.stack([resized_image] * 3, axis=-1)  # Convert 1 channel to 3 channels by stacking\n",
    "\n",
    "    # Step 7: Expand dimensions to match model input shape and normalize\n",
    "    img_array = np.expand_dims(rgb_image, axis=0)  # (1, 32, 32, 3)\n",
    "    img_array = img_array / 255.0  # Normalize pixel values (0-1)\n",
    "\n",
    "    return img_array\n",
    "\n",
    "\n",
    "# Function to load and preprocess image for prediction\n",
    "def load_and_preprocess_image(img_path):\n",
    "    img = image.load_img(img_path, target_size=(64, 64))  # Resize to match model input size\n",
    "    img_array = image.img_to_array(img)  # Convert image to array\n",
    "    img_array = np.expand_dims(img_array, axis=0)  # Expand dimensions to match model input shape (1, 64, 64, 3)\n",
    "    img_array = img_array / 255.0  # Normalize pixel values\n",
    "    return img_array\n",
    "\n",
    "# Inference: Get confidence scores for each alphabet class\n",
    "def predict_alphabet(img_path):\n",
    "    # Load and preprocess image\n",
    "    # image_ = invert_image(img_path)\n",
    "    image_ = load_and_preprocess_image(img_path)\n",
    "    \n",
    "    # Make prediction\n",
    "    predictions = model.predict(image_)\n",
    "    \n",
    "    # Confidence scores for all classes\n",
    "    confidence_scores = predictions[0]\n",
    "    \n",
    "    # Get predicted class (the class with the highest confidence score)\n",
    "    predicted_class = np.argmax(confidence_scores)\n",
    "    \n",
    "    # Display the prediction and confidence scores\n",
    "    print(f'Predicted Class: {predicted_class}')\n",
    "    print('Confidence Scores for each class:')\n",
    "    for idx, score in enumerate(confidence_scores):\n",
    "        print(f'Alphabet {idx}: {score*100:.2f}%')\n",
    "\n",
    "    # Optional: Plot image and top prediction\n",
    "    # img = image.load_img(img_path)\n",
    "    plt.imshow(image_[0])\n",
    "    plt.title(f\"Predicted Alphabet: {predicted_class} with Confidence: {np.max(confidence_scores) * 100:.2f}%\")\n",
    "    plt.axis('off')\n",
    "    plt.show()"
   ]
  },
  {
   "cell_type": "code",
   "execution_count": 6,
   "metadata": {},
   "outputs": [
    {
     "name": "stdout",
     "output_type": "stream",
     "text": [
      "1/1 [==============================] - 0s 28ms/step\n",
      "Predicted Class: 41\n",
      "Confidence Scores for each class:\n",
      "Alphabet 0: 0.01%\n",
      "Alphabet 1: 0.00%\n",
      "Alphabet 2: 0.00%\n",
      "Alphabet 3: 0.00%\n",
      "Alphabet 4: 0.00%\n",
      "Alphabet 5: 0.00%\n",
      "Alphabet 6: 0.00%\n",
      "Alphabet 7: 0.00%\n",
      "Alphabet 8: 0.00%\n",
      "Alphabet 9: 0.00%\n",
      "Alphabet 10: 0.00%\n",
      "Alphabet 11: 0.99%\n",
      "Alphabet 12: 0.00%\n",
      "Alphabet 13: 0.00%\n",
      "Alphabet 14: 0.07%\n",
      "Alphabet 15: 0.00%\n",
      "Alphabet 16: 0.00%\n",
      "Alphabet 17: 0.00%\n",
      "Alphabet 18: 0.00%\n",
      "Alphabet 19: 0.00%\n",
      "Alphabet 20: 0.00%\n",
      "Alphabet 21: 0.00%\n",
      "Alphabet 22: 0.00%\n",
      "Alphabet 23: 0.09%\n",
      "Alphabet 24: 0.00%\n",
      "Alphabet 25: 0.00%\n",
      "Alphabet 26: 0.00%\n",
      "Alphabet 27: 0.00%\n",
      "Alphabet 28: 0.00%\n",
      "Alphabet 29: 0.00%\n",
      "Alphabet 30: 0.00%\n",
      "Alphabet 31: 0.00%\n",
      "Alphabet 32: 0.00%\n",
      "Alphabet 33: 0.00%\n",
      "Alphabet 34: 0.00%\n",
      "Alphabet 35: 0.00%\n",
      "Alphabet 36: 0.00%\n",
      "Alphabet 37: 0.00%\n",
      "Alphabet 38: 0.00%\n",
      "Alphabet 39: 0.00%\n",
      "Alphabet 40: 0.00%\n",
      "Alphabet 41: 51.40%\n",
      "Alphabet 42: 0.00%\n",
      "Alphabet 43: 47.44%\n",
      "Alphabet 44: 0.00%\n",
      "Alphabet 45: 0.00%\n"
     ]
    },
    {
     "data": {
      "image/png": "[encoded data removed]",
      "text/plain": [
       "<Figure size 640x480 with 1 Axes>"
      ]
     },
     "metadata": {},
     "output_type": "display_data"
    }
   ],
   "source": [
    "test_image_path = r\"test/1/image_4500.png\"\n",
    "predict_alphabet(test_image_path)"
   ]
  },
  {
   "cell_type": "code",
   "execution_count": 27,
   "metadata": {},
   "outputs": [
    {
     "name": "stdout",
     "output_type": "stream",
     "text": [
      "(32, 32, 3)\n"
     ]
    },
    {
     "data": {
      "text/plain": [
       "<matplotlib.image.AxesImage at 0x1da5bc4c520>"
      ]
     },
     "execution_count": 27,
     "metadata": {},
     "output_type": "execute_result"
    },
    {
     "data": {
      "image/png": "[encoded data removed]",
      "text/plain": [
       "<Figure size 640x480 with 1 Axes>"
      ]
     },
     "metadata": {},
     "output_type": "display_data"
    }
   ],
   "source": [
    "path = r\"train\\1\\image_25500.png\"\n",
    "image = cv2.imread(path)\n",
    "print(image.shape)\n",
    "plt.imshow(image[:, :,2])"
   ]
  },
  {
   "cell_type": "code",
   "execution_count": null,
   "metadata": {},
   "outputs": [],
   "source": []
  }
 ],
 "metadata": {
  "kernelspec": {
   "display_name": "hackademia",
   "language": "python",
   "name": "python3"
  },
  "language_info": {
   "codemirror_mode": {
    "name": "ipython",
    "version": 3
   },
   "file_extension": ".py",
   "mimetype": "text/x-python",
   "name": "python",
   "nbconvert_exporter": "python",
   "pygments_lexer": "ipython3",
   "version": "3.9.19"
  }
 },
 "nbformat": 4,
 "nbformat_minor": 2
}
